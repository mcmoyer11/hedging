{
 "cells": [
  {
   "cell_type": "code",
   "execution_count": 1,
   "metadata": {},
   "outputs": [],
   "source": [
    "import pandas as pd\n",
    "import numpy as np"
   ]
  },
  {
   "cell_type": "code",
   "execution_count": 4,
   "metadata": {},
   "outputs": [
    {
     "name": "stderr",
     "output_type": "stream",
     "text": [
      "Skipping line 11827: '\t' expected after '\"'\n"
     ]
    }
   ],
   "source": [
    "# import the database file from the TGrep2 searching\n",
    "df = pd.read_csv(\"../results/swbd.tab\", sep=\"\\t\", engine=\"python\",quotechar='\"', error_bad_lines=False)"
   ]
  },
  {
   "cell_type": "code",
   "execution_count": 5,
   "metadata": {},
   "outputs": [],
   "source": [
    "# This makes the display show more info\n",
    "pd.set_option('display.max_rows', None)\n",
    "pd.set_option('display.max_colwidth', None)"
   ]
  },
  {
   "cell_type": "code",
   "execution_count": 6,
   "metadata": {},
   "outputs": [
    {
     "data": {
      "text/html": [
       "<div>\n",
       "<style scoped>\n",
       "    .dataframe tbody tr th:only-of-type {\n",
       "        vertical-align: middle;\n",
       "    }\n",
       "\n",
       "    .dataframe tbody tr th {\n",
       "        vertical-align: top;\n",
       "    }\n",
       "\n",
       "    .dataframe thead th {\n",
       "        text-align: right;\n",
       "    }\n",
       "</style>\n",
       "<table border=\"1\" class=\"dataframe\">\n",
       "  <thead>\n",
       "    <tr style=\"text-align: right;\">\n",
       "      <th></th>\n",
       "      <th>Item_ID</th>\n",
       "      <th>Sentence</th>\n",
       "      <th>SentenceParse</th>\n",
       "      <th>Hedge</th>\n",
       "      <th>PreviousContext</th>\n",
       "      <th>FollowingContext</th>\n",
       "    </tr>\n",
       "  </thead>\n",
       "  <tbody>\n",
       "    <tr>\n",
       "      <th>0</th>\n",
       "      <td>3:33</td>\n",
       "      <td>uh, first, um, i need *-1 to know, uh, how do you feel *t*-2 about, uh, about * sending, uh, an elderly, uh, family member to a nursing home?</td>\n",
       "      <td>(TOP (S (INTJ (UH Uh)) (, ,) (ADVP-TMP (RB first)) (, ,) (INTJ (UH um)) (, ,) (NP-SBJ-1 (PRP I)) (VP (VBP need) (S (NP-SBJ (-NONE- *-1)) (VP (TO to) (VP (VB know) (, ,) (INTJ (UH uh)) (, ,) (SBARQ (WHADVP-2 (WRB how)) (SQ (VBP do) (NP-SBJ (PRP you)) (VP (VB feel) (ADVP (-NONE- *T*-2)) (EDITED (RM (-DFL- \\[)) (PP-UNF (IN about)) (, ,) (IP (-DFL- \\+))) (INTJ (UH uh)) (, ,) (PP (IN about) (RS (-DFL- \\])) (S-NOM (NP-SBJ (-NONE- *)) (VP (VBG sending) (, ,) (INTJ (UH uh)) (, ,) (NP (DT an) (JJ elderly) (, ,) (INTJ (UH uh)) (, ,) (NN family) (NN member)) (PP-DIR (IN to) (NP (DT a) (NN nursing) (NN home))))))))))))) (. ?) (-DFL- E_S)))</td>\n",
       "      <td>know</td>\n",
       "      <td>###&lt;none&gt;###&lt;none&gt;###&lt;none&gt;###&lt;none&gt;###&lt;none&gt;###&lt;none&gt;###&lt;none&gt;###&lt;none&gt;###speakera1.###okay.</td>\n",
       "      <td>###speakerb2.###well, of course, it's, you know, it's one of the last few things in the world 0 you'd ever want *-1 to do *t*-2, you know. unless it's just, you know, really, you know, and, uh, for their, uh, you know, for their own good.###speakera3.###yes.###yeah.###speakerb4.###i'd be very very careful and, uh, you know, *-1 checking them out.###uh, our,###* had *-1 t-, place my mother in a nursing home.###she had a rather massive stroke about, uh, about uh, eight months ago i guess.</td>\n",
       "    </tr>\n",
       "    <tr>\n",
       "      <th>1</th>\n",
       "      <td>5:39</td>\n",
       "      <td>well, of course, it's, you know, it's one of the last few things in the world 0 you'd ever want *-1 to do *t*-2, you know. unless it's just, you know, really, you know, and, uh, for their, uh, you know, for their own good.</td>\n",
       "      <td>(TOP (S (INTJ (UH Well)) (, ,) (PP (IN of) (NP (NN course))) (, ,) (EDITED (RM (-DFL- \\[)) (S (NP-SBJ (PRP it)) (VP-UNF (BES 's))) (, ,) (IP (-DFL- \\+))) (PRN (S (NP-SBJ (PRP you)) (VP (VBP know))) (, ,)) (NP-SBJ (PRP it)) (VP (BES 's) (RS (-DFL- \\])) (NP-PRD (NP (CD one)) (PP (IN of) (NP (NP (DT the) (JJ last) (JJ few) (NNS things)) (PP-LOC (IN in) (NP (DT the) (NN world))) (SBAR (WHNP-2 (-NONE- 0)) (S (NP-SBJ-1 (PRP you)) (VP (MD 'd) (ADVP-TMP (RB ever)) (VP (VB want) (S (NP-SBJ (-NONE- *-1)) (VP (TO to) (VP (VB do) (NP (-NONE- *T*-2)) (PRN (, ,) (S (NP-SBJ (PRP you)) (VP (VBP know))) (. .)) (SBAR-ADV (IN Unless) (S (NP-SBJ (PRP it)) (VP (BES 's) (ADVP (RB just)) (PRN (, ,) (S (NP-SBJ (PRP you)) (VP (VBP know))) (, ,)) (ADVP (RB really)) (PRN (, ,) (S (NP-SBJ (PRP you)) (VP (VBP know))) (, ,)) (EDITED (CC and)) (, ,) (INTJ (UH uh)) (, ,) (EDITED (RM (-DFL- \\[)) (PP-PRD (IN for) (NP-UNF (PRP$ their))) (, ,) (IP (-DFL- \\+))) (INTJ (UH uh)) (PRN (, ,) (S (NP-SBJ (PRP you)) (VP (VBP know))) (, ,)) (PP-PRP-PRD (IN for) (NP (PRP$ their) (RS (-DFL- \\])) (JJ own) (NN good))))))))))))))))) (. .) (-DFL- E_S)))</td>\n",
       "      <td>know</td>\n",
       "      <td>###&lt;none&gt;###&lt;none&gt;###&lt;none&gt;###&lt;none&gt;###&lt;none&gt;###&lt;none&gt;###speakera1.###okay.###uh, first, um, i need *-1 to know, uh, how do you feel *t*-2 about, uh, about * sending, uh, an elderly, uh, family member to a nursing home?###speakerb2.</td>\n",
       "      <td>###speakera3.###yes.###yeah.###speakerb4.###i'd be very very careful and, uh, you know, *-1 checking them out.###uh, our,###* had *-1 t-, place my mother in a nursing home.###she had a rather massive stroke about, uh, about uh, eight months ago i guess.###speakera5.###uh-huh.</td>\n",
       "    </tr>\n",
       "    <tr>\n",
       "      <th>2</th>\n",
       "      <td>5:115</td>\n",
       "      <td>well, of course, it's, you know, it's one of the last few things in the world 0 you'd ever want *-1 to do *t*-2, you know. unless it's just, you know, really, you know, and, uh, for their, uh, you know, for their own good.</td>\n",
       "      <td>(TOP (S (INTJ (UH Well)) (, ,) (PP (IN of) (NP (NN course))) (, ,) (EDITED (RM (-DFL- \\[)) (S (NP-SBJ (PRP it)) (VP-UNF (BES 's))) (, ,) (IP (-DFL- \\+))) (PRN (S (NP-SBJ (PRP you)) (VP (VBP know))) (, ,)) (NP-SBJ (PRP it)) (VP (BES 's) (RS (-DFL- \\])) (NP-PRD (NP (CD one)) (PP (IN of) (NP (NP (DT the) (JJ last) (JJ few) (NNS things)) (PP-LOC (IN in) (NP (DT the) (NN world))) (SBAR (WHNP-2 (-NONE- 0)) (S (NP-SBJ-1 (PRP you)) (VP (MD 'd) (ADVP-TMP (RB ever)) (VP (VB want) (S (NP-SBJ (-NONE- *-1)) (VP (TO to) (VP (VB do) (NP (-NONE- *T*-2)) (PRN (, ,) (S (NP-SBJ (PRP you)) (VP (VBP know))) (. .)) (SBAR-ADV (IN Unless) (S (NP-SBJ (PRP it)) (VP (BES 's) (ADVP (RB just)) (PRN (, ,) (S (NP-SBJ (PRP you)) (VP (VBP know))) (, ,)) (ADVP (RB really)) (PRN (, ,) (S (NP-SBJ (PRP you)) (VP (VBP know))) (, ,)) (EDITED (CC and)) (, ,) (INTJ (UH uh)) (, ,) (EDITED (RM (-DFL- \\[)) (PP-PRD (IN for) (NP-UNF (PRP$ their))) (, ,) (IP (-DFL- \\+))) (INTJ (UH uh)) (PRN (, ,) (S (NP-SBJ (PRP you)) (VP (VBP know))) (, ,)) (PP-PRP-PRD (IN for) (NP (PRP$ their) (RS (-DFL- \\])) (JJ own) (NN good))))))))))))))))) (. .) (-DFL- E_S)))</td>\n",
       "      <td>know</td>\n",
       "      <td>###&lt;none&gt;###&lt;none&gt;###&lt;none&gt;###&lt;none&gt;###&lt;none&gt;###&lt;none&gt;###speakera1.###okay.###uh, first, um, i need *-1 to know, uh, how do you feel *t*-2 about, uh, about * sending, uh, an elderly, uh, family member to a nursing home?###speakerb2.</td>\n",
       "      <td>###speakera3.###yes.###yeah.###speakerb4.###i'd be very very careful and, uh, you know, *-1 checking them out.###uh, our,###* had *-1 t-, place my mother in a nursing home.###she had a rather massive stroke about, uh, about uh, eight months ago i guess.###speakera5.###uh-huh.</td>\n",
       "    </tr>\n",
       "    <tr>\n",
       "      <th>3</th>\n",
       "      <td>5:140</td>\n",
       "      <td>well, of course, it's, you know, it's one of the last few things in the world 0 you'd ever want *-1 to do *t*-2, you know. unless it's just, you know, really, you know, and, uh, for their, uh, you know, for their own good.</td>\n",
       "      <td>(TOP (S (INTJ (UH Well)) (, ,) (PP (IN of) (NP (NN course))) (, ,) (EDITED (RM (-DFL- \\[)) (S (NP-SBJ (PRP it)) (VP-UNF (BES 's))) (, ,) (IP (-DFL- \\+))) (PRN (S (NP-SBJ (PRP you)) (VP (VBP know))) (, ,)) (NP-SBJ (PRP it)) (VP (BES 's) (RS (-DFL- \\])) (NP-PRD (NP (CD one)) (PP (IN of) (NP (NP (DT the) (JJ last) (JJ few) (NNS things)) (PP-LOC (IN in) (NP (DT the) (NN world))) (SBAR (WHNP-2 (-NONE- 0)) (S (NP-SBJ-1 (PRP you)) (VP (MD 'd) (ADVP-TMP (RB ever)) (VP (VB want) (S (NP-SBJ (-NONE- *-1)) (VP (TO to) (VP (VB do) (NP (-NONE- *T*-2)) (PRN (, ,) (S (NP-SBJ (PRP you)) (VP (VBP know))) (. .)) (SBAR-ADV (IN Unless) (S (NP-SBJ (PRP it)) (VP (BES 's) (ADVP (RB just)) (PRN (, ,) (S (NP-SBJ (PRP you)) (VP (VBP know))) (, ,)) (ADVP (RB really)) (PRN (, ,) (S (NP-SBJ (PRP you)) (VP (VBP know))) (, ,)) (EDITED (CC and)) (, ,) (INTJ (UH uh)) (, ,) (EDITED (RM (-DFL- \\[)) (PP-PRD (IN for) (NP-UNF (PRP$ their))) (, ,) (IP (-DFL- \\+))) (INTJ (UH uh)) (PRN (, ,) (S (NP-SBJ (PRP you)) (VP (VBP know))) (, ,)) (PP-PRP-PRD (IN for) (NP (PRP$ their) (RS (-DFL- \\])) (JJ own) (NN good))))))))))))))))) (. .) (-DFL- E_S)))</td>\n",
       "      <td>know</td>\n",
       "      <td>###&lt;none&gt;###&lt;none&gt;###&lt;none&gt;###&lt;none&gt;###&lt;none&gt;###&lt;none&gt;###speakera1.###okay.###uh, first, um, i need *-1 to know, uh, how do you feel *t*-2 about, uh, about * sending, uh, an elderly, uh, family member to a nursing home?###speakerb2.</td>\n",
       "      <td>###speakera3.###yes.###yeah.###speakerb4.###i'd be very very careful and, uh, you know, *-1 checking them out.###uh, our,###* had *-1 t-, place my mother in a nursing home.###she had a rather massive stroke about, uh, about uh, eight months ago i guess.###speakera5.###uh-huh.</td>\n",
       "    </tr>\n",
       "    <tr>\n",
       "      <th>4</th>\n",
       "      <td>5:155</td>\n",
       "      <td>well, of course, it's, you know, it's one of the last few things in the world 0 you'd ever want *-1 to do *t*-2, you know. unless it's just, you know, really, you know, and, uh, for their, uh, you know, for their own good.</td>\n",
       "      <td>(TOP (S (INTJ (UH Well)) (, ,) (PP (IN of) (NP (NN course))) (, ,) (EDITED (RM (-DFL- \\[)) (S (NP-SBJ (PRP it)) (VP-UNF (BES 's))) (, ,) (IP (-DFL- \\+))) (PRN (S (NP-SBJ (PRP you)) (VP (VBP know))) (, ,)) (NP-SBJ (PRP it)) (VP (BES 's) (RS (-DFL- \\])) (NP-PRD (NP (CD one)) (PP (IN of) (NP (NP (DT the) (JJ last) (JJ few) (NNS things)) (PP-LOC (IN in) (NP (DT the) (NN world))) (SBAR (WHNP-2 (-NONE- 0)) (S (NP-SBJ-1 (PRP you)) (VP (MD 'd) (ADVP-TMP (RB ever)) (VP (VB want) (S (NP-SBJ (-NONE- *-1)) (VP (TO to) (VP (VB do) (NP (-NONE- *T*-2)) (PRN (, ,) (S (NP-SBJ (PRP you)) (VP (VBP know))) (. .)) (SBAR-ADV (IN Unless) (S (NP-SBJ (PRP it)) (VP (BES 's) (ADVP (RB just)) (PRN (, ,) (S (NP-SBJ (PRP you)) (VP (VBP know))) (, ,)) (ADVP (RB really)) (PRN (, ,) (S (NP-SBJ (PRP you)) (VP (VBP know))) (, ,)) (EDITED (CC and)) (, ,) (INTJ (UH uh)) (, ,) (EDITED (RM (-DFL- \\[)) (PP-PRD (IN for) (NP-UNF (PRP$ their))) (, ,) (IP (-DFL- \\+))) (INTJ (UH uh)) (PRN (, ,) (S (NP-SBJ (PRP you)) (VP (VBP know))) (, ,)) (PP-PRP-PRD (IN for) (NP (PRP$ their) (RS (-DFL- \\])) (JJ own) (NN good))))))))))))))))) (. .) (-DFL- E_S)))</td>\n",
       "      <td>know</td>\n",
       "      <td>###&lt;none&gt;###&lt;none&gt;###&lt;none&gt;###&lt;none&gt;###&lt;none&gt;###&lt;none&gt;###speakera1.###okay.###uh, first, um, i need *-1 to know, uh, how do you feel *t*-2 about, uh, about * sending, uh, an elderly, uh, family member to a nursing home?###speakerb2.</td>\n",
       "      <td>###speakera3.###yes.###yeah.###speakerb4.###i'd be very very careful and, uh, you know, *-1 checking them out.###uh, our,###* had *-1 t-, place my mother in a nursing home.###she had a rather massive stroke about, uh, about uh, eight months ago i guess.###speakera5.###uh-huh.</td>\n",
       "    </tr>\n",
       "  </tbody>\n",
       "</table>\n",
       "</div>"
      ],
      "text/plain": [
       "  Item_ID  \\\n",
       "0    3:33   \n",
       "1    5:39   \n",
       "2   5:115   \n",
       "3   5:140   \n",
       "4   5:155   \n",
       "\n",
       "                                                                                                                                                                                                                         Sentence  \\\n",
       "0                                                                                   uh, first, um, i need *-1 to know, uh, how do you feel *t*-2 about, uh, about * sending, uh, an elderly, uh, family member to a nursing home?   \n",
       "1  well, of course, it's, you know, it's one of the last few things in the world 0 you'd ever want *-1 to do *t*-2, you know. unless it's just, you know, really, you know, and, uh, for their, uh, you know, for their own good.   \n",
       "2  well, of course, it's, you know, it's one of the last few things in the world 0 you'd ever want *-1 to do *t*-2, you know. unless it's just, you know, really, you know, and, uh, for their, uh, you know, for their own good.   \n",
       "3  well, of course, it's, you know, it's one of the last few things in the world 0 you'd ever want *-1 to do *t*-2, you know. unless it's just, you know, really, you know, and, uh, for their, uh, you know, for their own good.   \n",
       "4  well, of course, it's, you know, it's one of the last few things in the world 0 you'd ever want *-1 to do *t*-2, you know. unless it's just, you know, really, you know, and, uh, for their, uh, you know, for their own good.   \n",
       "\n",
       "                                                                                                                                                                                                                                                                                                                                                                                                                                                                                                                                                                                                                                                                                                                                                                                                                                                                                                                                                                                                                                                                                                                                                     SentenceParse  \\\n",
       "0                                                                                                                                                                                                                                                                                                                                                                                                                                                                                                      (TOP (S (INTJ (UH Uh)) (, ,) (ADVP-TMP (RB first)) (, ,) (INTJ (UH um)) (, ,) (NP-SBJ-1 (PRP I)) (VP (VBP need) (S (NP-SBJ (-NONE- *-1)) (VP (TO to) (VP (VB know) (, ,) (INTJ (UH uh)) (, ,) (SBARQ (WHADVP-2 (WRB how)) (SQ (VBP do) (NP-SBJ (PRP you)) (VP (VB feel) (ADVP (-NONE- *T*-2)) (EDITED (RM (-DFL- \\[)) (PP-UNF (IN about)) (, ,) (IP (-DFL- \\+))) (INTJ (UH uh)) (, ,) (PP (IN about) (RS (-DFL- \\])) (S-NOM (NP-SBJ (-NONE- *)) (VP (VBG sending) (, ,) (INTJ (UH uh)) (, ,) (NP (DT an) (JJ elderly) (, ,) (INTJ (UH uh)) (, ,) (NN family) (NN member)) (PP-DIR (IN to) (NP (DT a) (NN nursing) (NN home))))))))))))) (. ?) (-DFL- E_S)))   \n",
       "1  (TOP (S (INTJ (UH Well)) (, ,) (PP (IN of) (NP (NN course))) (, ,) (EDITED (RM (-DFL- \\[)) (S (NP-SBJ (PRP it)) (VP-UNF (BES 's))) (, ,) (IP (-DFL- \\+))) (PRN (S (NP-SBJ (PRP you)) (VP (VBP know))) (, ,)) (NP-SBJ (PRP it)) (VP (BES 's) (RS (-DFL- \\])) (NP-PRD (NP (CD one)) (PP (IN of) (NP (NP (DT the) (JJ last) (JJ few) (NNS things)) (PP-LOC (IN in) (NP (DT the) (NN world))) (SBAR (WHNP-2 (-NONE- 0)) (S (NP-SBJ-1 (PRP you)) (VP (MD 'd) (ADVP-TMP (RB ever)) (VP (VB want) (S (NP-SBJ (-NONE- *-1)) (VP (TO to) (VP (VB do) (NP (-NONE- *T*-2)) (PRN (, ,) (S (NP-SBJ (PRP you)) (VP (VBP know))) (. .)) (SBAR-ADV (IN Unless) (S (NP-SBJ (PRP it)) (VP (BES 's) (ADVP (RB just)) (PRN (, ,) (S (NP-SBJ (PRP you)) (VP (VBP know))) (, ,)) (ADVP (RB really)) (PRN (, ,) (S (NP-SBJ (PRP you)) (VP (VBP know))) (, ,)) (EDITED (CC and)) (, ,) (INTJ (UH uh)) (, ,) (EDITED (RM (-DFL- \\[)) (PP-PRD (IN for) (NP-UNF (PRP$ their))) (, ,) (IP (-DFL- \\+))) (INTJ (UH uh)) (PRN (, ,) (S (NP-SBJ (PRP you)) (VP (VBP know))) (, ,)) (PP-PRP-PRD (IN for) (NP (PRP$ their) (RS (-DFL- \\])) (JJ own) (NN good))))))))))))))))) (. .) (-DFL- E_S)))   \n",
       "2  (TOP (S (INTJ (UH Well)) (, ,) (PP (IN of) (NP (NN course))) (, ,) (EDITED (RM (-DFL- \\[)) (S (NP-SBJ (PRP it)) (VP-UNF (BES 's))) (, ,) (IP (-DFL- \\+))) (PRN (S (NP-SBJ (PRP you)) (VP (VBP know))) (, ,)) (NP-SBJ (PRP it)) (VP (BES 's) (RS (-DFL- \\])) (NP-PRD (NP (CD one)) (PP (IN of) (NP (NP (DT the) (JJ last) (JJ few) (NNS things)) (PP-LOC (IN in) (NP (DT the) (NN world))) (SBAR (WHNP-2 (-NONE- 0)) (S (NP-SBJ-1 (PRP you)) (VP (MD 'd) (ADVP-TMP (RB ever)) (VP (VB want) (S (NP-SBJ (-NONE- *-1)) (VP (TO to) (VP (VB do) (NP (-NONE- *T*-2)) (PRN (, ,) (S (NP-SBJ (PRP you)) (VP (VBP know))) (. .)) (SBAR-ADV (IN Unless) (S (NP-SBJ (PRP it)) (VP (BES 's) (ADVP (RB just)) (PRN (, ,) (S (NP-SBJ (PRP you)) (VP (VBP know))) (, ,)) (ADVP (RB really)) (PRN (, ,) (S (NP-SBJ (PRP you)) (VP (VBP know))) (, ,)) (EDITED (CC and)) (, ,) (INTJ (UH uh)) (, ,) (EDITED (RM (-DFL- \\[)) (PP-PRD (IN for) (NP-UNF (PRP$ their))) (, ,) (IP (-DFL- \\+))) (INTJ (UH uh)) (PRN (, ,) (S (NP-SBJ (PRP you)) (VP (VBP know))) (, ,)) (PP-PRP-PRD (IN for) (NP (PRP$ their) (RS (-DFL- \\])) (JJ own) (NN good))))))))))))))))) (. .) (-DFL- E_S)))   \n",
       "3  (TOP (S (INTJ (UH Well)) (, ,) (PP (IN of) (NP (NN course))) (, ,) (EDITED (RM (-DFL- \\[)) (S (NP-SBJ (PRP it)) (VP-UNF (BES 's))) (, ,) (IP (-DFL- \\+))) (PRN (S (NP-SBJ (PRP you)) (VP (VBP know))) (, ,)) (NP-SBJ (PRP it)) (VP (BES 's) (RS (-DFL- \\])) (NP-PRD (NP (CD one)) (PP (IN of) (NP (NP (DT the) (JJ last) (JJ few) (NNS things)) (PP-LOC (IN in) (NP (DT the) (NN world))) (SBAR (WHNP-2 (-NONE- 0)) (S (NP-SBJ-1 (PRP you)) (VP (MD 'd) (ADVP-TMP (RB ever)) (VP (VB want) (S (NP-SBJ (-NONE- *-1)) (VP (TO to) (VP (VB do) (NP (-NONE- *T*-2)) (PRN (, ,) (S (NP-SBJ (PRP you)) (VP (VBP know))) (. .)) (SBAR-ADV (IN Unless) (S (NP-SBJ (PRP it)) (VP (BES 's) (ADVP (RB just)) (PRN (, ,) (S (NP-SBJ (PRP you)) (VP (VBP know))) (, ,)) (ADVP (RB really)) (PRN (, ,) (S (NP-SBJ (PRP you)) (VP (VBP know))) (, ,)) (EDITED (CC and)) (, ,) (INTJ (UH uh)) (, ,) (EDITED (RM (-DFL- \\[)) (PP-PRD (IN for) (NP-UNF (PRP$ their))) (, ,) (IP (-DFL- \\+))) (INTJ (UH uh)) (PRN (, ,) (S (NP-SBJ (PRP you)) (VP (VBP know))) (, ,)) (PP-PRP-PRD (IN for) (NP (PRP$ their) (RS (-DFL- \\])) (JJ own) (NN good))))))))))))))))) (. .) (-DFL- E_S)))   \n",
       "4  (TOP (S (INTJ (UH Well)) (, ,) (PP (IN of) (NP (NN course))) (, ,) (EDITED (RM (-DFL- \\[)) (S (NP-SBJ (PRP it)) (VP-UNF (BES 's))) (, ,) (IP (-DFL- \\+))) (PRN (S (NP-SBJ (PRP you)) (VP (VBP know))) (, ,)) (NP-SBJ (PRP it)) (VP (BES 's) (RS (-DFL- \\])) (NP-PRD (NP (CD one)) (PP (IN of) (NP (NP (DT the) (JJ last) (JJ few) (NNS things)) (PP-LOC (IN in) (NP (DT the) (NN world))) (SBAR (WHNP-2 (-NONE- 0)) (S (NP-SBJ-1 (PRP you)) (VP (MD 'd) (ADVP-TMP (RB ever)) (VP (VB want) (S (NP-SBJ (-NONE- *-1)) (VP (TO to) (VP (VB do) (NP (-NONE- *T*-2)) (PRN (, ,) (S (NP-SBJ (PRP you)) (VP (VBP know))) (. .)) (SBAR-ADV (IN Unless) (S (NP-SBJ (PRP it)) (VP (BES 's) (ADVP (RB just)) (PRN (, ,) (S (NP-SBJ (PRP you)) (VP (VBP know))) (, ,)) (ADVP (RB really)) (PRN (, ,) (S (NP-SBJ (PRP you)) (VP (VBP know))) (, ,)) (EDITED (CC and)) (, ,) (INTJ (UH uh)) (, ,) (EDITED (RM (-DFL- \\[)) (PP-PRD (IN for) (NP-UNF (PRP$ their))) (, ,) (IP (-DFL- \\+))) (INTJ (UH uh)) (PRN (, ,) (S (NP-SBJ (PRP you)) (VP (VBP know))) (, ,)) (PP-PRP-PRD (IN for) (NP (PRP$ their) (RS (-DFL- \\])) (JJ own) (NN good))))))))))))))))) (. .) (-DFL- E_S)))   \n",
       "\n",
       "  Hedge  \\\n",
       "0  know   \n",
       "1  know   \n",
       "2  know   \n",
       "3  know   \n",
       "4  know   \n",
       "\n",
       "                                                                                                                                                                                                                            PreviousContext  \\\n",
       "0                                                                                                                                             ###<none>###<none>###<none>###<none>###<none>###<none>###<none>###<none>###speakera1.###okay.   \n",
       "1  ###<none>###<none>###<none>###<none>###<none>###<none>###speakera1.###okay.###uh, first, um, i need *-1 to know, uh, how do you feel *t*-2 about, uh, about * sending, uh, an elderly, uh, family member to a nursing home?###speakerb2.   \n",
       "2  ###<none>###<none>###<none>###<none>###<none>###<none>###speakera1.###okay.###uh, first, um, i need *-1 to know, uh, how do you feel *t*-2 about, uh, about * sending, uh, an elderly, uh, family member to a nursing home?###speakerb2.   \n",
       "3  ###<none>###<none>###<none>###<none>###<none>###<none>###speakera1.###okay.###uh, first, um, i need *-1 to know, uh, how do you feel *t*-2 about, uh, about * sending, uh, an elderly, uh, family member to a nursing home?###speakerb2.   \n",
       "4  ###<none>###<none>###<none>###<none>###<none>###<none>###speakera1.###okay.###uh, first, um, i need *-1 to know, uh, how do you feel *t*-2 about, uh, about * sending, uh, an elderly, uh, family member to a nursing home?###speakerb2.   \n",
       "\n",
       "                                                                                                                                                                                                                                                                                                                                                                                                                                                                                              FollowingContext  \n",
       "0  ###speakerb2.###well, of course, it's, you know, it's one of the last few things in the world 0 you'd ever want *-1 to do *t*-2, you know. unless it's just, you know, really, you know, and, uh, for their, uh, you know, for their own good.###speakera3.###yes.###yeah.###speakerb4.###i'd be very very careful and, uh, you know, *-1 checking them out.###uh, our,###* had *-1 t-, place my mother in a nursing home.###she had a rather massive stroke about, uh, about uh, eight months ago i guess.  \n",
       "1                                                                                                                                                                                                                         ###speakera3.###yes.###yeah.###speakerb4.###i'd be very very careful and, uh, you know, *-1 checking them out.###uh, our,###* had *-1 t-, place my mother in a nursing home.###she had a rather massive stroke about, uh, about uh, eight months ago i guess.###speakera5.###uh-huh.  \n",
       "2                                                                                                                                                                                                                         ###speakera3.###yes.###yeah.###speakerb4.###i'd be very very careful and, uh, you know, *-1 checking them out.###uh, our,###* had *-1 t-, place my mother in a nursing home.###she had a rather massive stroke about, uh, about uh, eight months ago i guess.###speakera5.###uh-huh.  \n",
       "3                                                                                                                                                                                                                         ###speakera3.###yes.###yeah.###speakerb4.###i'd be very very careful and, uh, you know, *-1 checking them out.###uh, our,###* had *-1 t-, place my mother in a nursing home.###she had a rather massive stroke about, uh, about uh, eight months ago i guess.###speakera5.###uh-huh.  \n",
       "4                                                                                                                                                                                                                         ###speakera3.###yes.###yeah.###speakerb4.###i'd be very very careful and, uh, you know, *-1 checking them out.###uh, our,###* had *-1 t-, place my mother in a nursing home.###she had a rather massive stroke about, uh, about uh, eight months ago i guess.###speakera5.###uh-huh.  "
      ]
     },
     "execution_count": 6,
     "metadata": {},
     "output_type": "execute_result"
    }
   ],
   "source": [
    "# Look at the first 5 lines\n",
    "df.head()"
   ]
  },
  {
   "cell_type": "markdown",
   "metadata": {},
   "source": [
    "# NOTES\n",
    "\n",
    "- We want to avoid instances of 'you know' where it's not part of the hedge."
   ]
  },
  {
   "cell_type": "code",
   "execution_count": null,
   "metadata": {},
   "outputs": [],
   "source": []
  },
  {
   "cell_type": "code",
   "execution_count": null,
   "metadata": {},
   "outputs": [],
   "source": []
  }
 ],
 "metadata": {
  "kernelspec": {
   "display_name": "Python 3",
   "language": "python",
   "name": "python3"
  },
  "language_info": {
   "codemirror_mode": {
    "name": "ipython",
    "version": 3
   },
   "file_extension": ".py",
   "mimetype": "text/x-python",
   "name": "python",
   "nbconvert_exporter": "python",
   "pygments_lexer": "ipython3",
   "version": "3.8.3"
  }
 },
 "nbformat": 4,
 "nbformat_minor": 4
}
